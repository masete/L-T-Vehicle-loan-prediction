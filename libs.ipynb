{
 "cells": [
  {
   "cell_type": "code",
   "execution_count": 5,
   "id": "303c1749-9691-4bb2-981e-2db07e99a99b",
   "metadata": {},
   "outputs": [],
   "source": [
    "def removeOutliers(dataset, feature):\n",
    "    q1=dataset[feature].quantile(0.25)\n",
    "    q3=dataset[feature].quantile(0.75)\n",
    "    \n",
    "    IQR = q3-q1\n",
    "    lowerLimit = q1-1.5*IQR\n",
    "    upperLimit = q3+1.5*IQR\n",
    "    \n",
    "    dataset = dataset[dataset[feature]<upperLimit]\n",
    "    dataset = dataset[dataset[feature]>lowerLimit]\n",
    "    return dataset"
   ]
  },
  {
   "cell_type": "code",
   "execution_count": null,
   "id": "d491e68e",
   "metadata": {},
   "outputs": [],
   "source": [
    "FEATURE_MIN_MAX = []"
   ]
  },
  {
   "cell_type": "code",
   "execution_count": null,
   "id": "e1dad34b",
   "metadata": {},
   "outputs": [],
   "source": [
    "def scale_continous(series, feature):\n",
    "    minimum = series.min()\n",
    "    maximum = series.max()\n",
    "    \n",
    "    series_range = maximum - minimum\n",
    "    FEATURE_MIN_MAX.append([feature, minimum, maximum])\n",
    "    return series.apply(lambda val: (val-minimum)/series_range)"
   ]
  },
  {
   "cell_type": "code",
   "execution_count": null,
   "id": "64636d01-536d-4a60-90a7-42dce4e6371a",
   "metadata": {},
   "outputs": [],
   "source": [
    "def encode_employment_type(value: str)->int:\n",
    "    if the value is np.nan\n",
    "    return 0"
   ]
  }
 ],
 "metadata": {
  "kernelspec": {
   "display_name": "Python 3 (ipykernel)",
   "language": "python",
   "name": "python3"
  },
  "language_info": {
   "codemirror_mode": {
    "name": "ipython",
    "version": 3
   },
   "file_extension": ".py",
   "mimetype": "text/x-python",
   "name": "python",
   "nbconvert_exporter": "python",
   "pygments_lexer": "ipython3",
   "version": "3.10.7"
  }
 },
 "nbformat": 4,
 "nbformat_minor": 5
}
